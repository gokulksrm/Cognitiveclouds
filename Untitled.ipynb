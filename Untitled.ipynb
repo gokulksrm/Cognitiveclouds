{
 "cells": [
  {
   "cell_type": "code",
   "execution_count": 3,
   "id": "49f5b55a",
   "metadata": {},
   "outputs": [
    {
     "name": "stdout",
     "output_type": "stream",
     "text": [
      "1 is an odd number\n",
      "2 is an even number\n",
      "3 is an odd number\n",
      "4 is an even number\n",
      "5 is an odd number\n",
      "6 is an even number\n",
      "7 is an odd number\n",
      "8 is an even number\n",
      "9 is an odd number\n",
      "10 is an even number\n"
     ]
    }
   ],
   "source": [
    "#find the odd and even numbers in the array\n",
    "li=[1,2,3,4,5,6,7,8,9,10]\n",
    "for i in range(len(li)):\n",
    "    if li[i]%2==0:\n",
    "        print(\"%d is an even number\"%(li[i]))\n",
    "    else:\n",
    "        print(\"%d is an odd number\"%(li[i]))\n",
    "        \n"
   ]
  },
  {
   "cell_type": "code",
   "execution_count": 4,
   "id": "d459079d",
   "metadata": {},
   "outputs": [
    {
     "name": "stdout",
     "output_type": "stream",
     "text": [
      "enter the word/sentencehello\n",
      "h is a Consonent\n",
      "e is a vowel\n",
      "l is a Consonent\n",
      "l is a Consonent\n",
      "o is a vowel\n"
     ]
    }
   ],
   "source": [
    "# Find the vowels and consonants in a word/sentence\n",
    "s=input(\"enter the word/sentence\").split()\n",
    "vowels=['a','i','e','o','u']\n",
    "for i in s:\n",
    "    if i.isalpha():\n",
    "        for j in i:\n",
    "            if j.lower() in vowels:\n",
    "                print('%s is a vowel'%(j))\n",
    "            else:\n",
    "                print('%s is a Consonent'%(j))\n",
    "    else:\n",
    "        print('words or sentences contains characters only')         "
   ]
  },
  {
   "cell_type": "code",
   "execution_count": 15,
   "id": "6eb060ad",
   "metadata": {},
   "outputs": [
    {
     "name": "stdout",
     "output_type": "stream",
     "text": [
      "enter the string: Heloo\n",
      "ooleH\n"
     ]
    }
   ],
   "source": [
    "# Reverse a string without using built in methods\n",
    "s=input(\"enter the string: \")\n",
    "reverse=\"\"\n",
    "for i in range(len(s)):\n",
    "    reverse=s[i]+reverse\n",
    "print(reverse)"
   ]
  },
  {
   "cell_type": "code",
   "execution_count": null,
   "id": "8e2d0b98",
   "metadata": {},
   "outputs": [],
   "source": []
  },
  {
   "cell_type": "code",
   "execution_count": 3,
   "id": "e2aec590",
   "metadata": {},
   "outputs": [
    {
     "name": "stdout",
     "output_type": "stream",
     "text": [
      "enter the sentence: hai hello\n",
      "hai\n",
      "hello\n"
     ]
    }
   ],
   "source": [
    "#Split the words in a sentence\n",
    "s=input(\"enter the sentence: \").split()\n",
    "for i in range(len(s)):\n",
    "    print(s[i])"
   ]
  },
  {
   "cell_type": "code",
   "execution_count": 7,
   "id": "cb89b88d",
   "metadata": {},
   "outputs": [
    {
     "name": "stdout",
     "output_type": "stream",
     "text": [
      "2 is prime number\n",
      "3 is prime number\n",
      "11 is prime number\n"
     ]
    }
   ],
   "source": [
    "#Find the prime numbers in an array\n",
    "li=[2,3,4,6,9,12,11]\n",
    "for i in range(len(li)):\n",
    "    n=li[i]\n",
    "    c=0\n",
    "    for i in range(1,n+1):\n",
    "        if n%i==0:\n",
    "            c+=1\n",
    "    if c==2:\n",
    "        print('%d is prime number'%(n))"
   ]
  },
  {
   "cell_type": "code",
   "execution_count": 8,
   "id": "8ad3c5ad",
   "metadata": {},
   "outputs": [
    {
     "name": "stdout",
     "output_type": "stream",
     "text": [
      "99\n"
     ]
    }
   ],
   "source": [
    "#Find the highest number in an array\n",
    "li=[2,7,8,65,99,1,78]\n",
    "print(max(li))"
   ]
  },
  {
   "cell_type": "code",
   "execution_count": 36,
   "id": "77d9f643",
   "metadata": {},
   "outputs": [
    {
     "name": "stdout",
     "output_type": "stream",
     "text": [
      "[7]\n"
     ]
    },
    {
     "data": {
      "text/plain": [
       "[2, 7, 8, 65, 99, 1, 78]"
      ]
     },
     "execution_count": 36,
     "metadata": {},
     "output_type": "execute_result"
    }
   ],
   "source": [
    "#Find the 3rd lowest number in an array\n",
    "li=[2,7,8,65,99,1,78]\n",
    "print(sorted(li)[2:3])"
   ]
  },
  {
   "cell_type": "code",
   "execution_count": 17,
   "id": "48173dcf",
   "metadata": {},
   "outputs": [
    {
     "name": "stdout",
     "output_type": "stream",
     "text": [
      "enter the fibanocii series range10\n",
      "Fibonacci series:\n",
      "0\n",
      "1\n",
      "1\n",
      "2\n",
      "3\n",
      "5\n",
      "8\n",
      "13\n",
      "21\n",
      "34\n"
     ]
    }
   ],
   "source": [
    "#Generate Fibonacci series\n",
    "n = int(input(\"enter the fibanocii series range\"))\n",
    "prev= 0\n",
    "curr=1\n",
    "c = 0\n",
    "if n <= 0:\n",
    "   print(\"enter a positive integer\")\n",
    "elif n == 1:\n",
    "   print(\"Fibonacci sequence\",nterms,\":\")\n",
    "   print(prev)\n",
    "else:\n",
    "   print(\"Fibonacci series:\")\n",
    "   while c < n:\n",
    "       print(prev)\n",
    "       s = prev + curr\n",
    "       prev = curr\n",
    "       curr = s\n",
    "       c += 1"
   ]
  },
  {
   "cell_type": "code",
   "execution_count": 18,
   "id": "8071d6a8",
   "metadata": {},
   "outputs": [
    {
     "name": "stdout",
     "output_type": "stream",
     "text": [
      "4 is missing number in series\n",
      "5 is missing number in series\n",
      "6 is missing number in series\n",
      "10 is missing number in series\n"
     ]
    }
   ],
   "source": [
    "#Find the missing numbers in a series\n",
    "li=[1,2,9,8,7,3]\n",
    "for i in range(1,11):\n",
    "    if i not in li:\n",
    "        print(\"%d is missing number in series\"%(i))"
   ]
  },
  {
   "cell_type": "code",
   "execution_count": 22,
   "id": "df799eb9",
   "metadata": {},
   "outputs": [
    {
     "name": "stdout",
     "output_type": "stream",
     "text": [
      "enter the number:5\n",
      "factorial of 5 is 120\n"
     ]
    }
   ],
   "source": [
    "#Find the factorial of a number using recursion\n",
    "def factorial(n):\n",
    "    if n==1:\n",
    "        return n\n",
    "    else:\n",
    "        return n*factorial(n-1)\n",
    "n=int(input(\"enter the number:\"))\n",
    "if n<0:\n",
    "    print(\"enter the postive number\")\n",
    "elif n==1:\n",
    "    print(\"factorial of 0 is 1\")\n",
    "else:\n",
    "    print(\"factorial of %d is %d\"%(n,factorial(n)))"
   ]
  },
  {
   "cell_type": "code",
   "execution_count": 23,
   "id": "d7927d4e",
   "metadata": {},
   "outputs": [
    {
     "name": "stdout",
     "output_type": "stream",
     "text": [
      "Enter the string: abba\n",
      "palindrome\n"
     ]
    }
   ],
   "source": [
    "# Find if the word is a palindrome\n",
    "s=input(\"Enter the string: \")\n",
    "if s==s[::-1]:\n",
    "    print(\"palindrome\")\n",
    "else:\n",
    "    print(\"Not Palindrome\")"
   ]
  },
  {
   "cell_type": "code",
   "execution_count": 26,
   "id": "6a9b5c95",
   "metadata": {},
   "outputs": [
    {
     "name": "stdout",
     "output_type": "stream",
     "text": [
      "Strings are equal\n"
     ]
    }
   ],
   "source": [
    "#Write a program to compare two strings\n",
    "s1='gokul'\n",
    "s2='gokul'\n",
    "if s1==s2:\n",
    "    print(\"Strings are equal\")\n",
    "else:\n",
    "    print(\"Strings are not equals\")"
   ]
  },
  {
   "cell_type": "code",
   "execution_count": 35,
   "id": "5a89b02f",
   "metadata": {},
   "outputs": [
    {
     "name": "stdout",
     "output_type": "stream",
     "text": [
      "enter the string1 5 2\n",
      "['1', '2', '5']\n"
     ]
    }
   ],
   "source": [
    "#Sort the numbers/words in ascending/descending order\n",
    "n=input(\"enter the string\").split()\n",
    "n.sort()\n",
    "print(n)"
   ]
  },
  {
   "cell_type": "code",
   "execution_count": 38,
   "id": "34b09f25",
   "metadata": {},
   "outputs": [
    {
     "name": "stdout",
     "output_type": "stream",
     "text": [
      "9 element is found at index 2\n"
     ]
    }
   ],
   "source": [
    "#Understand and implement the Searching linear\n",
    "li=[1,7,9,10,8,6]\n",
    "key=9\n",
    "for i in range(len(li)):\n",
    "    if li[i]==key:\n",
    "        print('%d element is found at index %d'%(key,i))"
   ]
  },
  {
   "cell_type": "code",
   "execution_count": 39,
   "id": "71bcbfd2",
   "metadata": {},
   "outputs": [
    {
     "name": "stdout",
     "output_type": "stream",
     "text": [
      "[1, 2, 3, 4, 5, 6, 7, 8, 9, 10]\n"
     ]
    }
   ],
   "source": [
    "#Understand and implement the Sorting Bubble\n",
    "li=[2,1,5,7,9,6,4,3,8,10]\n",
    "for i in range(len(li)):\n",
    "    for j in range(len(li)-1):\n",
    "        if li[j]>li[j+1]:\n",
    "            li[j],li[j+1]=li[j+1],li[j]\n",
    "print(li)"
   ]
  },
  {
   "cell_type": "code",
   "execution_count": 44,
   "id": "a30c26d8",
   "metadata": {},
   "outputs": [
    {
     "name": "stdout",
     "output_type": "stream",
     "text": [
      "enter a number10\n",
      "2 3 5 7 "
     ]
    }
   ],
   "source": [
    "# prime numbers\n",
    "n=int(input(\"enter a number\"))\n",
    "\n",
    "for i in range(2,n+1):\n",
    "    c=0\n",
    "    for j in range(2,i+1):\n",
    "        if i%j==0:\n",
    "            c+=1\n",
    "    if c==1:\n",
    "        print(i,end=\" \")\n",
    "    "
   ]
  },
  {
   "cell_type": "code",
   "execution_count": 75,
   "id": "df8e1846",
   "metadata": {},
   "outputs": [
    {
     "name": "stdout",
     "output_type": "stream",
     "text": [
      "The multiplication result of matrix m1 and m2 is: \n",
      "[14, 32, 28]\n",
      "[26, 57, 51]\n"
     ]
    }
   ],
   "source": [
    "# matrix multiplication\n",
    "m1 = [ [2, 4, 6],  \n",
    "     [4, 7, 9]]    \n",
    "m2 = [[3, 2, 4],    \n",
    "     [2, 7, 5]]   \n",
    "Result = [[0, 0, 0],    \n",
    "               [0, 0, 0]]   \n",
    "for m in range(len(m1)):    \n",
    "    for n in range(len(m2[0])):    \n",
    "          for o in range(len(m2)):    \n",
    "                Result[m][n] += m1[m][o] * m2[o][n]  \n",
    "# Printing multiplication result in the output  \n",
    "print(\"The multiplication result of matrix m1 and m2 is: \")  \n",
    "for r in Result:    \n",
    "   print(r)  "
   ]
  },
  {
   "cell_type": "code",
   "execution_count": 49,
   "id": "a3a79f08",
   "metadata": {},
   "outputs": [
    {
     "name": "stdout",
     "output_type": "stream",
     "text": [
      "red\n",
      "suc45\n",
      "it runs 100kmph\n"
     ]
    }
   ],
   "source": [
    "# OOPs Abstraction\n",
    "from abc import ABC, abstractmethod\n",
    "class Car(ABC):\n",
    "    def __init__(self,color,model):\n",
    "        self.color=color\n",
    "        self.model=model\n",
    "    @abstractmethod\n",
    "    def speed(self):\n",
    "        pass\n",
    "class Benz(Car):\n",
    "    def __init__(self,color,model):\n",
    "        super().__init__(color,model)\n",
    "    def speed(self):\n",
    "        print(\"it runs 100kmph\")\n",
    "b1=Benz('red','suc45')\n",
    "print(b1.color)\n",
    "print(b1.model)\n",
    "b1.speed()\n",
    "    \n",
    "              \n"
   ]
  },
  {
   "cell_type": "code",
   "execution_count": 60,
   "id": "66b6bf5d",
   "metadata": {},
   "outputs": [
    {
     "name": "stdout",
     "output_type": "stream",
     "text": [
      "Public attrbutes:  green\n",
      "Protected attrbutes: apple\n",
      "Private attrbutes: sweet\n",
      "Object is accessing protected member: apple\n"
     ]
    }
   ],
   "source": [
    "# OOPs Encapsulation\n",
    "class Super:\n",
    "    def __init__(self, color, fruit,taste): \n",
    "        self.color = color\n",
    "        self._fruit = fruit\n",
    "        self.__taste = taste \n",
    "    def PublicAttr(self):\n",
    "        print(\"Public attrbutes: \", self.color) \n",
    "    def _ProtectedAttr(self):\n",
    "          print(\"Protected attrbutes:\", self._fruit)\n",
    "    def __PrivateAttr(self):\n",
    "          print(\"Private attrbutes:\", self.__taste)\n",
    "    def accessPrivateAttrs(self):    \n",
    "          self.__PrivateAttr()\n",
    "class Sub(Super):\n",
    "    def __init__(self, color, fruit,taste):\n",
    "        Super.__init__(self, color, fruit,taste)\n",
    "    def accessProtectedAttrs(self):\n",
    "        self._ProtectedAttr()\n",
    "obj = Sub(\"green\", \"apple\", \"sweet\")\n",
    "obj.PublicAttr()\n",
    "obj.accessProtectedAttrs()\n",
    "obj.accessPrivateAttrs()\n",
    "print(\"Object is accessing protected member:\", obj._fruit)"
   ]
  },
  {
   "cell_type": "code",
   "execution_count": 73,
   "id": "cde3fd04",
   "metadata": {},
   "outputs": [
    {
     "name": "stdout",
     "output_type": "stream",
     "text": [
      "iam writing\n",
      "iam reading\n",
      "iam learing\n"
     ]
    }
   ],
   "source": [
    "# OOPs inheritance\n",
    "class A:\n",
    "    def writing(self):\n",
    "        print(\"iam writing\")\n",
    "class B:\n",
    "    def reading(self):\n",
    "        print(\"iam reading\")\n",
    "class C(A,B):\n",
    "    def learn(self):\n",
    "        print(\"iam learing\")\n",
    "obj=C()\n",
    "obj.writing()\n",
    "obj.reading()\n",
    "obj.learn()\n",
    "\n"
   ]
  },
  {
   "cell_type": "code",
   "execution_count": 74,
   "id": "3169c7c9",
   "metadata": {},
   "outputs": [
    {
     "name": "stdout",
     "output_type": "stream",
     "text": [
      "it has 3 sides\n",
      "it has n number of sides\n"
     ]
    }
   ],
   "source": [
    "# OOPs polymor\n",
    "class Shape:\n",
    "    def sides(self) :\n",
    "        print('it has n number of sides')\n",
    "class Triangle(Shape):\n",
    "    def sides(self):\n",
    "        print(\"it has 3 sides\")\n",
    "class Cirle(Shape):\n",
    "    pass\n",
    "t=Triangle()\n",
    "t.sides()\n",
    "c=Cirle()\n",
    "c.sides()"
   ]
  },
  {
   "cell_type": "code",
   "execution_count": null,
   "id": "395ff848",
   "metadata": {},
   "outputs": [],
   "source": []
  }
 ],
 "metadata": {
  "kernelspec": {
   "display_name": "Python 3 (ipykernel)",
   "language": "python",
   "name": "python3"
  },
  "language_info": {
   "codemirror_mode": {
    "name": "ipython",
    "version": 3
   },
   "file_extension": ".py",
   "mimetype": "text/x-python",
   "name": "python",
   "nbconvert_exporter": "python",
   "pygments_lexer": "ipython3",
   "version": "3.9.13"
  }
 },
 "nbformat": 4,
 "nbformat_minor": 5
}
